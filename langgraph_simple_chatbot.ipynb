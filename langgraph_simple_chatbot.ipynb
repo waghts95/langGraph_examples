{
 "cells": [
  {
   "cell_type": "code",
   "execution_count": 2,
   "id": "8d7d10b3",
   "metadata": {},
   "outputs": [],
   "source": [
    "from typing import TypedDict\n",
    "from langgraph.graph import StateGraph, END\n",
    "from langgraph.checkpoint.memory import MemorySaver\n",
    "from langchain_ollama import ChatOllama\n",
    "from langchain_core.messages import HumanMessage, AIMessage, SystemMessage\n",
    "\n",
    "# Define the state\n",
    "class ChatState(TypedDict):\n",
    "    messages: list\n",
    "\n",
    "# Initialize the LLM\n",
    "llm = ChatOllama(\n",
    "    model=\"llama3.2\",\n",
    "    temperature=0.7,\n",
    ")\n",
    "\n",
    "def chatbot_node(state: ChatState) -> ChatState:\n",
    "    \"\"\"Main chatbot node that calls the LLM\"\"\"\n",
    "    messages = state[\"messages\"]\n",
    "    response = llm.invoke(messages)\n",
    "    updated_messages = messages + [response]\n",
    "    return {\"messages\": updated_messages}\n",
    "\n",
    "def create_chatbot():\n",
    "    \"\"\"Build the chatbot graph\"\"\"\n",
    "    workflow = StateGraph(ChatState)\n",
    "    workflow.add_node(\"chatbot\", chatbot_node)\n",
    "    workflow.set_entry_point(\"chatbot\")\n",
    "    workflow.add_edge(\"chatbot\", END)\n",
    "    memory = MemorySaver()\n",
    "    app = workflow.compile(checkpointer=memory)\n",
    "    return app\n",
    "\n",
    "# Create chatbot instance\n",
    "chatbot = create_chatbot()\n",
    "config = {\"configurable\": {\"thread_id\": \"jupyter_session\"}}\n",
    "\n",
    "# Initialize conversation history\n",
    "conversation_history = [\n",
    "    SystemMessage(content=\"You are a helpful, friendly AI assistant.\")\n",
    "]\n",
    "\n",
    "def chat(user_message: str):\n",
    "    \"\"\"\n",
    "    Simple chat function for Jupyter notebooks\n",
    "    Usage: chat(\"Your message here\")\n",
    "    \"\"\"\n",
    "    global conversation_history\n",
    "    \n",
    "    # Add user message\n",
    "    conversation_history.append(HumanMessage(content=user_message))\n",
    "    \n",
    "    # Get response\n",
    "    try:\n",
    "        state = {\"messages\": conversation_history}\n",
    "        result = chatbot.invoke(state, config)\n",
    "        conversation_history = result[\"messages\"]\n",
    "        \n",
    "        # Get AI response\n",
    "        ai_response = conversation_history[-1].content\n",
    "        \n",
    "        # Display conversation\n",
    "        print(f\"You: {user_message}\")\n",
    "        print(f\"🤖 Bot: {ai_response}\\n\")\n",
    "        \n",
    "        return ai_response\n",
    "        \n",
    "    except Exception as e:\n",
    "        print(f\"❌ Error: {e}\")\n",
    "        print(\"\\nMake sure:\")\n",
    "        print(\"1. Ollama is running: ollama serve\")\n",
    "        print(\"2. Model is installed: ollama pull llama3.2\")\n",
    "        return None\n",
    "\n",
    "def reset_chat():\n",
    "    \"\"\"Reset the conversation history\"\"\"\n",
    "    global conversation_history\n",
    "    conversation_history = [\n",
    "        SystemMessage(content=\"You are a helpful, friendly AI assistant.\")\n",
    "    ]\n",
    "    print(\"✅ Conversation reset!\")\n",
    "\n",
    "def show_history():\n",
    "    \"\"\"Show the conversation history\"\"\"\n",
    "    print(\"=\" * 60)\n",
    "    print(\"CONVERSATION HISTORY\")\n",
    "    print(\"=\" * 60)\n",
    "    for msg in conversation_history[1:]:  # Skip system message\n",
    "        if isinstance(msg, HumanMessage):\n",
    "            print(f\"You: {msg.content}\")\n",
    "        elif isinstance(msg, AIMessage):\n",
    "            print(f\"🤖 Bot: {msg.content}\")\n",
    "    print(\"=\" * 60)"
   ]
  },
  {
   "cell_type": "code",
   "execution_count": 3,
   "id": "069050c4",
   "metadata": {},
   "outputs": [
    {
     "name": "stdout",
     "output_type": "stream",
     "text": [
      "You: Hello! What's your name?\n",
      "🤖 Bot: I'm glad you asked. I don't have a personal name in the classical sense, but I'm often referred to as \"Assistant\" or \"AI Assistant\" by users like you. If you'd like, I can also generate a nickname or persona for our conversation if it makes things more fun and engaging! Would you like that?\n",
      "\n"
     ]
    },
    {
     "data": {
      "text/plain": [
       "'I\\'m glad you asked. I don\\'t have a personal name in the classical sense, but I\\'m often referred to as \"Assistant\" or \"AI Assistant\" by users like you. If you\\'d like, I can also generate a nickname or persona for our conversation if it makes things more fun and engaging! Would you like that?'"
      ]
     },
     "execution_count": 3,
     "metadata": {},
     "output_type": "execute_result"
    }
   ],
   "source": [
    "chat(\"Hello! What's your name?\")"
   ]
  },
  {
   "cell_type": "code",
   "execution_count": 4,
   "id": "a45eb2c7",
   "metadata": {},
   "outputs": [
    {
     "name": "stdout",
     "output_type": "stream",
     "text": [
      "You: What can you help me with?\n",
      "🤖 Bot: I'm a versatile AI assistant, so I can help you with a wide range of topics and tasks. Here are some examples:\n",
      "\n",
      "1. **General knowledge**: I can provide information on various subjects, such as history, science, technology, health, culture, and more.\n",
      "2. **Language translation**: If you need to translate text or conversation from one language to another, I can help with that too.\n",
      "3. **Writing assistance**: Whether it's proofreading, suggesting alternative phrases, or even generating content for you, I'm here to support your writing needs.\n",
      "4. **Conversation and chat**: We can have a fun conversation, play games, or engage in discussions on various topics.\n",
      "5. **Learning and education**: If you're looking for help with learning a new skill or subject, I can provide guidance, examples, and exercises to get you started.\n",
      "6. **Brainstorming and ideas**: Sometimes, all you need is someone to bounce ideas off of. I can help generate suggestions and explore different perspectives.\n",
      "7. **Jokes and entertainment**: If you're feeling down or need a laugh, I've got some jokes up my sleeve (or rather, in my database).\n",
      "8. **Practical tasks**: I can also assist with more practical tasks, such as generating to-do lists, setting reminders, or providing tips on productivity.\n",
      "\n",
      "What sounds interesting to you? Or do you have something specific in mind that you'd like help with?\n",
      "\n"
     ]
    },
    {
     "data": {
      "text/plain": [
       "\"I'm a versatile AI assistant, so I can help you with a wide range of topics and tasks. Here are some examples:\\n\\n1. **General knowledge**: I can provide information on various subjects, such as history, science, technology, health, culture, and more.\\n2. **Language translation**: If you need to translate text or conversation from one language to another, I can help with that too.\\n3. **Writing assistance**: Whether it's proofreading, suggesting alternative phrases, or even generating content for you, I'm here to support your writing needs.\\n4. **Conversation and chat**: We can have a fun conversation, play games, or engage in discussions on various topics.\\n5. **Learning and education**: If you're looking for help with learning a new skill or subject, I can provide guidance, examples, and exercises to get you started.\\n6. **Brainstorming and ideas**: Sometimes, all you need is someone to bounce ideas off of. I can help generate suggestions and explore different perspectives.\\n7. **Jokes and entertainment**: If you're feeling down or need a laugh, I've got some jokes up my sleeve (or rather, in my database).\\n8. **Practical tasks**: I can also assist with more practical tasks, such as generating to-do lists, setting reminders, or providing tips on productivity.\\n\\nWhat sounds interesting to you? Or do you have something specific in mind that you'd like help with?\""
      ]
     },
     "execution_count": 4,
     "metadata": {},
     "output_type": "execute_result"
    }
   ],
   "source": [
    "chat(\"What can you help me with?\")"
   ]
  },
  {
   "cell_type": "code",
   "execution_count": 5,
   "id": "88664864",
   "metadata": {},
   "outputs": [
    {
     "name": "stdout",
     "output_type": "stream",
     "text": [
      "You: Explain AI in simple terms\n",
      "🤖 Bot: I'll try to explain AI in a way that's easy to understand:\n",
      "\n",
      "**Artificial Intelligence (AI)**: Think of AI as a tool that can think and learn, just like humans do. It uses special computer code to make decisions, recognize patterns, and solve problems.\n",
      "\n",
      "Imagine you're trying to teach a robot how to play chess. At first, the robot would need to be told every single move it should make to win. But over time, as it plays more games, the robot starts to learn from its mistakes and makes moves on its own. That's basically what AI is doing - learning from data and getting better at tasks over time.\n",
      "\n",
      "**How does it work?**\n",
      "\n",
      "There are a few key ways that AI works:\n",
      "\n",
      "1. **Data**: AI needs lots of information to learn from, like pictures, words, or sounds.\n",
      "2. **Algorithms**: These are special sets of instructions that tell the AI what to do with the data it's learned.\n",
      "3. **Computing power**: The more powerful the computer, the faster and more efficient the AI can be.\n",
      "\n",
      "**Types of AI**:\n",
      "\n",
      "There are several types of AI, including:\n",
      "\n",
      "1. **Machine Learning (ML)**: This is like teaching a robot by showing it lots of examples and letting it learn from them.\n",
      "2. **Deep Learning**: This is a type of ML that uses special neural networks to recognize patterns in data.\n",
      "3. **Natural Language Processing (NLP)**: This is AI that can understand and work with human language, like chatbots or voice assistants.\n",
      "\n",
      "**Real-life examples**:\n",
      "\n",
      "AI is already being used in many everyday things, such as:\n",
      "\n",
      "1. Virtual assistants (like Siri or Alexa)\n",
      "2. Image recognition apps\n",
      "3. Self-driving cars\n",
      "4. Personalized recommendations on streaming services\n",
      "\n",
      "I hope that helps! Do you have any specific questions about AI?\n",
      "\n"
     ]
    },
    {
     "data": {
      "text/plain": [
       "\"I'll try to explain AI in a way that's easy to understand:\\n\\n**Artificial Intelligence (AI)**: Think of AI as a tool that can think and learn, just like humans do. It uses special computer code to make decisions, recognize patterns, and solve problems.\\n\\nImagine you're trying to teach a robot how to play chess. At first, the robot would need to be told every single move it should make to win. But over time, as it plays more games, the robot starts to learn from its mistakes and makes moves on its own. That's basically what AI is doing - learning from data and getting better at tasks over time.\\n\\n**How does it work?**\\n\\nThere are a few key ways that AI works:\\n\\n1. **Data**: AI needs lots of information to learn from, like pictures, words, or sounds.\\n2. **Algorithms**: These are special sets of instructions that tell the AI what to do with the data it's learned.\\n3. **Computing power**: The more powerful the computer, the faster and more efficient the AI can be.\\n\\n**Types of AI**:\\n\\nThere are several types of AI, including:\\n\\n1. **Machine Learning (ML)**: This is like teaching a robot by showing it lots of examples and letting it learn from them.\\n2. **Deep Learning**: This is a type of ML that uses special neural networks to recognize patterns in data.\\n3. **Natural Language Processing (NLP)**: This is AI that can understand and work with human language, like chatbots or voice assistants.\\n\\n**Real-life examples**:\\n\\nAI is already being used in many everyday things, such as:\\n\\n1. Virtual assistants (like Siri or Alexa)\\n2. Image recognition apps\\n3. Self-driving cars\\n4. Personalized recommendations on streaming services\\n\\nI hope that helps! Do you have any specific questions about AI?\""
      ]
     },
     "execution_count": 5,
     "metadata": {},
     "output_type": "execute_result"
    }
   ],
   "source": [
    "chat(\"Explain AI in simple terms\")"
   ]
  }
 ],
 "metadata": {
  "kernelspec": {
   "display_name": "langgraph-examples",
   "language": "python",
   "name": "python3"
  },
  "language_info": {
   "codemirror_mode": {
    "name": "ipython",
    "version": 3
   },
   "file_extension": ".py",
   "mimetype": "text/x-python",
   "name": "python",
   "nbconvert_exporter": "python",
   "pygments_lexer": "ipython3",
   "version": "3.10.18"
  }
 },
 "nbformat": 4,
 "nbformat_minor": 5
}
